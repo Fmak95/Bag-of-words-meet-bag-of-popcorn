{
 "cells": [
  {
   "cell_type": "markdown",
   "metadata": {},
   "source": [
    "# Word Vectors - Sentiment Analysis\n",
    "\n",
    "This notebook is a continuation of my previous notebook based on the kaggle challenge: Bag of Words Meets Bag of Popcorn, in which the goal of the challenge is to correctly determine the sentiment of an author's review based on the text information.\n",
    "\n",
    "In order to perform machine learning, the data being fed into the algorithm needs to be numerical, in my previous notebook, we represented words numerically using the Bag of Words. Here, we will use a more advanced technique that aims to capture the meaning of the word called word vectors."
   ]
  },
  {
   "cell_type": "markdown",
   "metadata": {},
   "source": [
    "# What are word vectors?\n",
    "\n",
    "In the simplest of terms, a word vector is a numerical representation of a word. Each word has a unique meaning and a word vector aims to capture this unique meaning by representing it as a vector of numbers. To create the word vectors we will use Word2Vec, which is a neural network published by Google.\n",
    "\n",
    "Word2Vec is a unsupervised learning algorithm, meaning it does not require labels to learn the meaning of the words. The network aims to cluster together words with similar meaning (i.e. cat, dog, kitten, puppy)."
   ]
  },
  {
   "cell_type": "code",
   "execution_count": 30,
   "metadata": {},
   "outputs": [
    {
     "name": "stdout",
     "output_type": "stream",
     "text": [
      "Train Review Size: 25000\n",
      "Test Review Size: 25000\n",
      "Unlabled Train Review Size: 50000\n"
     ]
    }
   ],
   "source": [
    "import pandas as pd\n",
    "\n",
    "# Read data from files \n",
    "train = pd.read_csv( \"./Data/labeledTrainData.tsv\", header=0, delimiter=\"\\t\", quoting=3 )\n",
    "test = pd.read_csv( \"./Data/testData.tsv\", header=0, delimiter=\"\\t\", quoting=3 )\n",
    "unlabeled_train = pd.read_csv( \"./Data/unlabeledTrainData.tsv\", header=0, delimiter=\"\\t\", quoting=3 )\n",
    "\n",
    "# Verify the number of reviews that were read (100,000 in total)\n",
    "print(\"Train Review Size: {}\".format(train['review'].size))\n",
    "print(\"Test Review Size: {}\".format(test['review'].size))\n",
    "print(\"Unlabled Train Review Size: {}\".format(unlabeled_train['review'].size))"
   ]
  },
  {
   "cell_type": "code",
   "execution_count": 6,
   "metadata": {},
   "outputs": [],
   "source": [
    "# Import various modules for string cleaning\n",
    "from bs4 import BeautifulSoup\n",
    "import re\n",
    "from nltk.corpus import stopwords\n",
    "\n",
    "def review_to_wordlist( review, remove_stopwords=False ):\n",
    "    # Function to convert a document to a sequence of words,\n",
    "    # optionally removing stop words.  Returns a list of words.\n",
    "    #\n",
    "    # 1. Remove HTML\n",
    "    review_text = BeautifulSoup(review).get_text()\n",
    "    #  \n",
    "    # 2. Remove non-letters\n",
    "    review_text = re.sub(\"[^a-zA-Z]\",\" \", review_text)\n",
    "    #\n",
    "    # 3. Convert words to lower case and split them\n",
    "    words = review_text.lower().split()\n",
    "    #\n",
    "    # 4. Optionally remove stop words (false by default)\n",
    "    if remove_stopwords:\n",
    "        stops = set(stopwords.words(\"english\"))\n",
    "        words = [w for w in words if not w in stops]\n",
    "    #\n",
    "    # 5. Return a list of words\n",
    "    return(words)\n",
    "\n"
   ]
  },
  {
   "cell_type": "code",
   "execution_count": 8,
   "metadata": {},
   "outputs": [],
   "source": [
    "# Load the punkt tokenizer\n",
    "import nltk.data\n",
    "tokenizer = nltk.data.load('tokenizers/punkt/english.pickle')\n",
    "\n",
    "# Define a function to split a review into parsed sentences\n",
    "def review_to_sentences( review, tokenizer, remove_stopwords=False ):\n",
    "    # Function to split a review into parsed sentences. Returns a \n",
    "    # list of sentences, where each sentence is a list of words\n",
    "    #\n",
    "    # 1. Use the NLTK tokenizer to split the paragraph into sentences\n",
    "    raw_sentences = tokenizer.tokenize(review.strip())\n",
    "    #\n",
    "    # 2. Loop over each sentence\n",
    "    sentences = []\n",
    "    for raw_sentence in raw_sentences:\n",
    "        # If a sentence is empty, skip it\n",
    "        if len(raw_sentence) > 0:\n",
    "            # Otherwise, call review_to_wordlist to get a list of words\n",
    "            sentences.append( review_to_wordlist( raw_sentence, \\\n",
    "              remove_stopwords ))\n",
    "    #\n",
    "    # Return the list of sentences (each sentence is a list of words,\n",
    "    # so this returns a list of lists\n",
    "    return sentences"
   ]
  },
  {
   "cell_type": "code",
   "execution_count": 10,
   "metadata": {},
   "outputs": [
    {
     "name": "stdout",
     "output_type": "stream",
     "text": [
      "Parsing sentences from training set\n"
     ]
    },
    {
     "name": "stderr",
     "output_type": "stream",
     "text": [
      "/anaconda3/lib/python3.6/site-packages/bs4/__init__.py:273: UserWarning: \"b'.'\" looks like a filename, not markup. You should probably open this file and pass the filehandle into Beautiful Soup.\n",
      "  ' Beautiful Soup.' % markup)\n",
      "/anaconda3/lib/python3.6/site-packages/bs4/__init__.py:336: UserWarning: \"http://www.happierabroad.com\"\" looks like a URL. Beautiful Soup is not an HTTP client. You should probably use an HTTP client like requests to get the document behind the URL, and feed that document to Beautiful Soup.\n",
      "  ' that document to Beautiful Soup.' % decoded_markup\n"
     ]
    },
    {
     "name": "stdout",
     "output_type": "stream",
     "text": [
      "Parsing sentences from unlabeled set\n"
     ]
    },
    {
     "name": "stderr",
     "output_type": "stream",
     "text": [
      "/anaconda3/lib/python3.6/site-packages/bs4/__init__.py:336: UserWarning: \"http://www.archive.org/details/LovefromaStranger\"\" looks like a URL. Beautiful Soup is not an HTTP client. You should probably use an HTTP client like requests to get the document behind the URL, and feed that document to Beautiful Soup.\n",
      "  ' that document to Beautiful Soup.' % decoded_markup\n",
      "/anaconda3/lib/python3.6/site-packages/bs4/__init__.py:336: UserWarning: \"http://www.loosechangeguide.com/LooseChangeGuide.html\"\" looks like a URL. Beautiful Soup is not an HTTP client. You should probably use an HTTP client like requests to get the document behind the URL, and feed that document to Beautiful Soup.\n",
      "  ' that document to Beautiful Soup.' % decoded_markup\n",
      "/anaconda3/lib/python3.6/site-packages/bs4/__init__.py:336: UserWarning: \"http://www.msnbc.msn.com/id/4972055/site/newsweek/\"\" looks like a URL. Beautiful Soup is not an HTTP client. You should probably use an HTTP client like requests to get the document behind the URL, and feed that document to Beautiful Soup.\n",
      "  ' that document to Beautiful Soup.' % decoded_markup\n",
      "/anaconda3/lib/python3.6/site-packages/bs4/__init__.py:273: UserWarning: \"b'..'\" looks like a filename, not markup. You should probably open this file and pass the filehandle into Beautiful Soup.\n",
      "  ' Beautiful Soup.' % markup)\n",
      "/anaconda3/lib/python3.6/site-packages/bs4/__init__.py:336: UserWarning: \"http://www.youtube.com/watch?v=a0KSqelmgN8\"\" looks like a URL. Beautiful Soup is not an HTTP client. You should probably use an HTTP client like requests to get the document behind the URL, and feed that document to Beautiful Soup.\n",
      "  ' that document to Beautiful Soup.' % decoded_markup\n",
      "/anaconda3/lib/python3.6/site-packages/bs4/__init__.py:336: UserWarning: \"http://jake-weird.blogspot.com/2007/08/beneath.html\"\" looks like a URL. Beautiful Soup is not an HTTP client. You should probably use an HTTP client like requests to get the document behind the URL, and feed that document to Beautiful Soup.\n",
      "  ' that document to Beautiful Soup.' % decoded_markup\n"
     ]
    }
   ],
   "source": [
    "sentences = []  # Initialize an empty list of sentences\n",
    "\n",
    "print (\"Parsing sentences from training set\")\n",
    "for review in train[\"review\"]:\n",
    "    sentences += review_to_sentences(review, tokenizer)\n",
    "\n",
    "print (\"Parsing sentences from unlabeled set\")\n",
    "for review in unlabeled_train[\"review\"]:\n",
    "    sentences += review_to_sentences(review, tokenizer)"
   ]
  },
  {
   "cell_type": "code",
   "execution_count": 12,
   "metadata": {},
   "outputs": [
    {
     "name": "stdout",
     "output_type": "stream",
     "text": [
      "795538\n"
     ]
    }
   ],
   "source": [
    "print (len(sentences))"
   ]
  },
  {
   "cell_type": "code",
   "execution_count": 13,
   "metadata": {},
   "outputs": [
    {
     "name": "stdout",
     "output_type": "stream",
     "text": [
      "['with', 'all', 'this', 'stuff', 'going', 'down', 'at', 'the', 'moment', 'with', 'mj', 'i', 've', 'started', 'listening', 'to', 'his', 'music', 'watching', 'the', 'odd', 'documentary', 'here', 'and', 'there', 'watched', 'the', 'wiz', 'and', 'watched', 'moonwalker', 'again']\n",
      "['maybe', 'i', 'just', 'want', 'to', 'get', 'a', 'certain', 'insight', 'into', 'this', 'guy', 'who', 'i', 'thought', 'was', 'really', 'cool', 'in', 'the', 'eighties', 'just', 'to', 'maybe', 'make', 'up', 'my', 'mind', 'whether', 'he', 'is', 'guilty', 'or', 'innocent']\n"
     ]
    }
   ],
   "source": [
    "print(sentences[0])\n",
    "print(sentences[1])"
   ]
  },
  {
   "cell_type": "code",
   "execution_count": 14,
   "metadata": {},
   "outputs": [
    {
     "name": "stderr",
     "output_type": "stream",
     "text": [
      "2019-03-11 17:57:47,123 : INFO : 'pattern' package not found; tag filters are not available for English\n",
      "2019-03-11 17:57:47,130 : INFO : collecting all words and their counts\n",
      "2019-03-11 17:57:47,131 : INFO : PROGRESS: at sentence #0, processed 0 words, keeping 0 word types\n",
      "2019-03-11 17:57:47,212 : INFO : PROGRESS: at sentence #10000, processed 225803 words, keeping 17776 word types\n",
      "2019-03-11 17:57:47,278 : INFO : PROGRESS: at sentence #20000, processed 451892 words, keeping 24948 word types\n"
     ]
    },
    {
     "name": "stdout",
     "output_type": "stream",
     "text": [
      "Training model...\n"
     ]
    },
    {
     "name": "stderr",
     "output_type": "stream",
     "text": [
      "2019-03-11 17:57:47,350 : INFO : PROGRESS: at sentence #30000, processed 671315 words, keeping 30034 word types\n",
      "2019-03-11 17:57:47,444 : INFO : PROGRESS: at sentence #40000, processed 897815 words, keeping 34348 word types\n",
      "2019-03-11 17:57:47,523 : INFO : PROGRESS: at sentence #50000, processed 1116963 words, keeping 37761 word types\n",
      "2019-03-11 17:57:47,597 : INFO : PROGRESS: at sentence #60000, processed 1338404 words, keeping 40723 word types\n",
      "2019-03-11 17:57:47,668 : INFO : PROGRESS: at sentence #70000, processed 1561580 words, keeping 43333 word types\n",
      "2019-03-11 17:57:47,741 : INFO : PROGRESS: at sentence #80000, processed 1780887 words, keeping 45714 word types\n",
      "2019-03-11 17:57:47,816 : INFO : PROGRESS: at sentence #90000, processed 2004996 words, keeping 48135 word types\n",
      "2019-03-11 17:57:47,890 : INFO : PROGRESS: at sentence #100000, processed 2226966 words, keeping 50207 word types\n",
      "2019-03-11 17:57:47,981 : INFO : PROGRESS: at sentence #110000, processed 2446580 words, keeping 52081 word types\n",
      "2019-03-11 17:57:48,060 : INFO : PROGRESS: at sentence #120000, processed 2668775 words, keeping 54119 word types\n",
      "2019-03-11 17:57:48,169 : INFO : PROGRESS: at sentence #130000, processed 2894303 words, keeping 55847 word types\n",
      "2019-03-11 17:57:48,240 : INFO : PROGRESS: at sentence #140000, processed 3107005 words, keeping 57346 word types\n",
      "2019-03-11 17:57:48,321 : INFO : PROGRESS: at sentence #150000, processed 3332627 words, keeping 59055 word types\n",
      "2019-03-11 17:57:48,412 : INFO : PROGRESS: at sentence #160000, processed 3555315 words, keeping 60617 word types\n",
      "2019-03-11 17:57:48,550 : INFO : PROGRESS: at sentence #170000, processed 3778655 words, keeping 62077 word types\n",
      "2019-03-11 17:57:48,652 : INFO : PROGRESS: at sentence #180000, processed 3999236 words, keeping 63496 word types\n",
      "2019-03-11 17:57:48,727 : INFO : PROGRESS: at sentence #190000, processed 4224449 words, keeping 64794 word types\n",
      "2019-03-11 17:57:48,801 : INFO : PROGRESS: at sentence #200000, processed 4448603 words, keeping 66087 word types\n",
      "2019-03-11 17:57:48,873 : INFO : PROGRESS: at sentence #210000, processed 4669967 words, keeping 67390 word types\n",
      "2019-03-11 17:57:48,948 : INFO : PROGRESS: at sentence #220000, processed 4894968 words, keeping 68697 word types\n",
      "2019-03-11 17:57:49,030 : INFO : PROGRESS: at sentence #230000, processed 5117545 words, keeping 69958 word types\n",
      "2019-03-11 17:57:49,104 : INFO : PROGRESS: at sentence #240000, processed 5345050 words, keeping 71167 word types\n",
      "2019-03-11 17:57:49,178 : INFO : PROGRESS: at sentence #250000, processed 5559165 words, keeping 72351 word types\n",
      "2019-03-11 17:57:49,260 : INFO : PROGRESS: at sentence #260000, processed 5779146 words, keeping 73478 word types\n",
      "2019-03-11 17:57:49,379 : INFO : PROGRESS: at sentence #270000, processed 6000435 words, keeping 74767 word types\n",
      "2019-03-11 17:57:49,542 : INFO : PROGRESS: at sentence #280000, processed 6226314 words, keeping 76369 word types\n",
      "2019-03-11 17:57:49,669 : INFO : PROGRESS: at sentence #290000, processed 6449474 words, keeping 77839 word types\n",
      "2019-03-11 17:57:49,761 : INFO : PROGRESS: at sentence #300000, processed 6674077 words, keeping 79171 word types\n",
      "2019-03-11 17:57:49,844 : INFO : PROGRESS: at sentence #310000, processed 6899391 words, keeping 80480 word types\n",
      "2019-03-11 17:57:49,928 : INFO : PROGRESS: at sentence #320000, processed 7124278 words, keeping 81808 word types\n",
      "2019-03-11 17:57:50,015 : INFO : PROGRESS: at sentence #330000, processed 7346021 words, keeping 83030 word types\n",
      "2019-03-11 17:57:50,105 : INFO : PROGRESS: at sentence #340000, processed 7575533 words, keeping 84280 word types\n",
      "2019-03-11 17:57:50,184 : INFO : PROGRESS: at sentence #350000, processed 7798803 words, keeping 85425 word types\n",
      "2019-03-11 17:57:50,266 : INFO : PROGRESS: at sentence #360000, processed 8019427 words, keeping 86596 word types\n",
      "2019-03-11 17:57:50,351 : INFO : PROGRESS: at sentence #370000, processed 8246619 words, keeping 87708 word types\n",
      "2019-03-11 17:57:50,443 : INFO : PROGRESS: at sentence #380000, processed 8471766 words, keeping 88878 word types\n",
      "2019-03-11 17:57:50,564 : INFO : PROGRESS: at sentence #390000, processed 8701497 words, keeping 89907 word types\n",
      "2019-03-11 17:57:50,675 : INFO : PROGRESS: at sentence #400000, processed 8924446 words, keeping 90916 word types\n",
      "2019-03-11 17:57:50,786 : INFO : PROGRESS: at sentence #410000, processed 9145796 words, keeping 91880 word types\n",
      "2019-03-11 17:57:50,908 : INFO : PROGRESS: at sentence #420000, processed 9366876 words, keeping 92912 word types\n",
      "2019-03-11 17:57:50,993 : INFO : PROGRESS: at sentence #430000, processed 9594413 words, keeping 93932 word types\n",
      "2019-03-11 17:57:51,067 : INFO : PROGRESS: at sentence #440000, processed 9821166 words, keeping 94906 word types\n",
      "2019-03-11 17:57:51,153 : INFO : PROGRESS: at sentence #450000, processed 10044928 words, keeping 96036 word types\n",
      "2019-03-11 17:57:51,230 : INFO : PROGRESS: at sentence #460000, processed 10277688 words, keeping 97088 word types\n",
      "2019-03-11 17:57:51,302 : INFO : PROGRESS: at sentence #470000, processed 10505613 words, keeping 97933 word types\n",
      "2019-03-11 17:57:51,375 : INFO : PROGRESS: at sentence #480000, processed 10725997 words, keeping 98862 word types\n",
      "2019-03-11 17:57:51,450 : INFO : PROGRESS: at sentence #490000, processed 10952741 words, keeping 99871 word types\n",
      "2019-03-11 17:57:51,528 : INFO : PROGRESS: at sentence #500000, processed 11174397 words, keeping 100765 word types\n",
      "2019-03-11 17:57:51,607 : INFO : PROGRESS: at sentence #510000, processed 11399672 words, keeping 101699 word types\n",
      "2019-03-11 17:57:51,695 : INFO : PROGRESS: at sentence #520000, processed 11623020 words, keeping 102598 word types\n",
      "2019-03-11 17:57:51,774 : INFO : PROGRESS: at sentence #530000, processed 11847418 words, keeping 103400 word types\n",
      "2019-03-11 17:57:51,852 : INFO : PROGRESS: at sentence #540000, processed 12072033 words, keeping 104265 word types\n",
      "2019-03-11 17:57:51,927 : INFO : PROGRESS: at sentence #550000, processed 12297571 words, keeping 105133 word types\n",
      "2019-03-11 17:57:52,004 : INFO : PROGRESS: at sentence #560000, processed 12518861 words, keeping 105997 word types\n",
      "2019-03-11 17:57:52,090 : INFO : PROGRESS: at sentence #570000, processed 12747916 words, keeping 106787 word types\n",
      "2019-03-11 17:57:52,201 : INFO : PROGRESS: at sentence #580000, processed 12969412 words, keeping 107665 word types\n",
      "2019-03-11 17:57:52,323 : INFO : PROGRESS: at sentence #590000, processed 13194937 words, keeping 108501 word types\n",
      "2019-03-11 17:57:52,451 : INFO : PROGRESS: at sentence #600000, processed 13417135 words, keeping 109218 word types\n",
      "2019-03-11 17:57:52,567 : INFO : PROGRESS: at sentence #610000, processed 13638158 words, keeping 110092 word types\n",
      "2019-03-11 17:57:52,678 : INFO : PROGRESS: at sentence #620000, processed 13864483 words, keeping 110837 word types\n",
      "2019-03-11 17:57:52,793 : INFO : PROGRESS: at sentence #630000, processed 14088769 words, keeping 111610 word types\n",
      "2019-03-11 17:57:52,917 : INFO : PROGRESS: at sentence #640000, processed 14309552 words, keeping 112416 word types\n",
      "2019-03-11 17:57:53,036 : INFO : PROGRESS: at sentence #650000, processed 14535308 words, keeping 113196 word types\n",
      "2019-03-11 17:57:53,161 : INFO : PROGRESS: at sentence #660000, processed 14758098 words, keeping 113945 word types\n",
      "2019-03-11 17:57:53,284 : INFO : PROGRESS: at sentence #670000, processed 14981482 words, keeping 114643 word types\n",
      "2019-03-11 17:57:53,406 : INFO : PROGRESS: at sentence #680000, processed 15206314 words, keeping 115354 word types\n",
      "2019-03-11 17:57:53,525 : INFO : PROGRESS: at sentence #690000, processed 15428507 words, keeping 116131 word types\n",
      "2019-03-11 17:57:53,667 : INFO : PROGRESS: at sentence #700000, processed 15657213 words, keeping 116943 word types\n",
      "2019-03-11 17:57:53,813 : INFO : PROGRESS: at sentence #710000, processed 15880202 words, keeping 117596 word types\n",
      "2019-03-11 17:57:53,941 : INFO : PROGRESS: at sentence #720000, processed 16105489 words, keeping 118221 word types\n",
      "2019-03-11 17:57:54,054 : INFO : PROGRESS: at sentence #730000, processed 16331870 words, keeping 118954 word types\n",
      "2019-03-11 17:57:54,162 : INFO : PROGRESS: at sentence #740000, processed 16552903 words, keeping 119668 word types\n"
     ]
    },
    {
     "name": "stderr",
     "output_type": "stream",
     "text": [
      "2019-03-11 17:57:54,268 : INFO : PROGRESS: at sentence #750000, processed 16771230 words, keeping 120295 word types\n",
      "2019-03-11 17:57:54,382 : INFO : PROGRESS: at sentence #760000, processed 16990622 words, keeping 120930 word types\n",
      "2019-03-11 17:57:54,490 : INFO : PROGRESS: at sentence #770000, processed 17217759 words, keeping 121703 word types\n",
      "2019-03-11 17:57:54,577 : INFO : PROGRESS: at sentence #780000, processed 17447905 words, keeping 122402 word types\n",
      "2019-03-11 17:57:54,661 : INFO : PROGRESS: at sentence #790000, processed 17674981 words, keeping 123066 word types\n",
      "2019-03-11 17:57:54,715 : INFO : collected 123504 word types from a corpus of 17798082 raw words and 795538 sentences\n",
      "2019-03-11 17:57:54,716 : INFO : Loading a fresh vocabulary\n",
      "2019-03-11 17:57:54,799 : INFO : min_count=40 retains 16490 unique words (13% of original 123504, drops 107014)\n",
      "2019-03-11 17:57:54,800 : INFO : min_count=40 leaves 17238940 word corpus (96% of original 17798082, drops 559142)\n",
      "2019-03-11 17:57:54,859 : INFO : deleting the raw counts dictionary of 123504 items\n",
      "2019-03-11 17:57:54,865 : INFO : sample=0.001 downsamples 48 most-common words\n",
      "2019-03-11 17:57:54,866 : INFO : downsampling leaves estimated 12749658 word corpus (74.0% of prior 17238940)\n",
      "2019-03-11 17:57:54,923 : INFO : estimated required memory for 16490 words and 300 dimensions: 47821000 bytes\n",
      "2019-03-11 17:57:54,925 : INFO : resetting layer weights\n",
      "2019-03-11 17:57:55,233 : INFO : training model with 4 workers on 16490 vocabulary and 300 features, using sg=0 hs=0 sample=0.001 negative=5 window=10\n",
      "2019-03-11 17:57:56,272 : INFO : EPOCH 1 - PROGRESS: at 6.68% examples, 832304 words/s, in_qsize 8, out_qsize 0\n",
      "2019-03-11 17:57:57,275 : INFO : EPOCH 1 - PROGRESS: at 13.25% examples, 830192 words/s, in_qsize 7, out_qsize 0\n",
      "2019-03-11 17:57:58,279 : INFO : EPOCH 1 - PROGRESS: at 19.81% examples, 828735 words/s, in_qsize 7, out_qsize 0\n",
      "2019-03-11 17:57:59,290 : INFO : EPOCH 1 - PROGRESS: at 26.63% examples, 835838 words/s, in_qsize 7, out_qsize 0\n",
      "2019-03-11 17:58:00,292 : INFO : EPOCH 1 - PROGRESS: at 33.26% examples, 835339 words/s, in_qsize 7, out_qsize 0\n",
      "2019-03-11 17:58:01,317 : INFO : EPOCH 1 - PROGRESS: at 39.48% examples, 825210 words/s, in_qsize 7, out_qsize 0\n",
      "2019-03-11 17:58:02,322 : INFO : EPOCH 1 - PROGRESS: at 46.11% examples, 828221 words/s, in_qsize 7, out_qsize 0\n",
      "2019-03-11 17:58:03,331 : INFO : EPOCH 1 - PROGRESS: at 52.32% examples, 823068 words/s, in_qsize 7, out_qsize 0\n",
      "2019-03-11 17:58:04,334 : INFO : EPOCH 1 - PROGRESS: at 58.90% examples, 825862 words/s, in_qsize 7, out_qsize 0\n",
      "2019-03-11 17:58:05,338 : INFO : EPOCH 1 - PROGRESS: at 65.45% examples, 826616 words/s, in_qsize 7, out_qsize 0\n",
      "2019-03-11 17:58:06,350 : INFO : EPOCH 1 - PROGRESS: at 71.82% examples, 824700 words/s, in_qsize 7, out_qsize 0\n",
      "2019-03-11 17:58:07,351 : INFO : EPOCH 1 - PROGRESS: at 77.43% examples, 815654 words/s, in_qsize 7, out_qsize 0\n",
      "2019-03-11 17:58:08,352 : INFO : EPOCH 1 - PROGRESS: at 83.56% examples, 812784 words/s, in_qsize 7, out_qsize 0\n",
      "2019-03-11 17:58:09,356 : INFO : EPOCH 1 - PROGRESS: at 89.58% examples, 809685 words/s, in_qsize 7, out_qsize 0\n",
      "2019-03-11 17:58:10,528 : INFO : EPOCH 1 - PROGRESS: at 93.17% examples, 777523 words/s, in_qsize 7, out_qsize 0\n",
      "2019-03-11 17:58:11,534 : INFO : EPOCH 1 - PROGRESS: at 98.11% examples, 768176 words/s, in_qsize 7, out_qsize 0\n",
      "2019-03-11 17:58:11,891 : INFO : worker thread finished; awaiting finish of 3 more threads\n",
      "2019-03-11 17:58:11,893 : INFO : worker thread finished; awaiting finish of 2 more threads\n",
      "2019-03-11 17:58:11,902 : INFO : worker thread finished; awaiting finish of 1 more threads\n",
      "2019-03-11 17:58:11,906 : INFO : worker thread finished; awaiting finish of 0 more threads\n",
      "2019-03-11 17:58:11,906 : INFO : EPOCH - 1 : training on 17798082 raw words (12750219 effective words) took 16.7s, 765567 effective words/s\n",
      "2019-03-11 17:58:12,914 : INFO : EPOCH 2 - PROGRESS: at 5.09% examples, 649870 words/s, in_qsize 7, out_qsize 0\n",
      "2019-03-11 17:58:13,918 : INFO : EPOCH 2 - PROGRESS: at 10.92% examples, 691791 words/s, in_qsize 7, out_qsize 0\n",
      "2019-03-11 17:58:14,924 : INFO : EPOCH 2 - PROGRESS: at 17.35% examples, 729422 words/s, in_qsize 7, out_qsize 0\n",
      "2019-03-11 17:58:15,926 : INFO : EPOCH 2 - PROGRESS: at 21.63% examples, 682626 words/s, in_qsize 7, out_qsize 0\n",
      "2019-03-11 17:58:16,939 : INFO : EPOCH 2 - PROGRESS: at 27.09% examples, 682939 words/s, in_qsize 7, out_qsize 0\n",
      "2019-03-11 17:58:17,942 : INFO : EPOCH 2 - PROGRESS: at 33.09% examples, 694791 words/s, in_qsize 7, out_qsize 0\n",
      "2019-03-11 17:58:18,949 : INFO : EPOCH 2 - PROGRESS: at 38.34% examples, 690896 words/s, in_qsize 7, out_qsize 0\n",
      "2019-03-11 17:58:19,950 : INFO : EPOCH 2 - PROGRESS: at 44.15% examples, 697414 words/s, in_qsize 7, out_qsize 0\n",
      "2019-03-11 17:58:20,952 : INFO : EPOCH 2 - PROGRESS: at 50.68% examples, 712709 words/s, in_qsize 7, out_qsize 0\n",
      "2019-03-11 17:58:21,958 : INFO : EPOCH 2 - PROGRESS: at 57.15% examples, 723817 words/s, in_qsize 7, out_qsize 0\n",
      "2019-03-11 17:58:22,965 : INFO : EPOCH 2 - PROGRESS: at 62.77% examples, 723274 words/s, in_qsize 8, out_qsize 1\n",
      "2019-03-11 17:58:23,971 : INFO : EPOCH 2 - PROGRESS: at 69.03% examples, 729454 words/s, in_qsize 7, out_qsize 0\n",
      "2019-03-11 17:58:24,973 : INFO : EPOCH 2 - PROGRESS: at 75.59% examples, 737578 words/s, in_qsize 7, out_qsize 0\n",
      "2019-03-11 17:58:25,977 : INFO : EPOCH 2 - PROGRESS: at 82.15% examples, 744365 words/s, in_qsize 7, out_qsize 0\n",
      "2019-03-11 17:58:26,978 : INFO : EPOCH 2 - PROGRESS: at 88.58% examples, 749595 words/s, in_qsize 7, out_qsize 0\n",
      "2019-03-11 17:58:27,980 : INFO : EPOCH 2 - PROGRESS: at 95.00% examples, 753577 words/s, in_qsize 7, out_qsize 0\n",
      "2019-03-11 17:58:28,774 : INFO : worker thread finished; awaiting finish of 3 more threads\n",
      "2019-03-11 17:58:28,790 : INFO : worker thread finished; awaiting finish of 2 more threads\n",
      "2019-03-11 17:58:28,796 : INFO : worker thread finished; awaiting finish of 1 more threads\n",
      "2019-03-11 17:58:28,802 : INFO : worker thread finished; awaiting finish of 0 more threads\n",
      "2019-03-11 17:58:28,804 : INFO : EPOCH - 2 : training on 17798082 raw words (12749991 effective words) took 16.9s, 754920 effective words/s\n",
      "2019-03-11 17:58:29,841 : INFO : EPOCH 3 - PROGRESS: at 6.09% examples, 774343 words/s, in_qsize 6, out_qsize 1\n",
      "2019-03-11 17:58:30,845 : INFO : EPOCH 3 - PROGRESS: at 12.68% examples, 800362 words/s, in_qsize 7, out_qsize 0\n",
      "2019-03-11 17:58:31,850 : INFO : EPOCH 3 - PROGRESS: at 19.26% examples, 808412 words/s, in_qsize 7, out_qsize 0\n",
      "2019-03-11 17:58:32,854 : INFO : EPOCH 3 - PROGRESS: at 24.67% examples, 777458 words/s, in_qsize 7, out_qsize 0\n",
      "2019-03-11 17:58:33,856 : INFO : EPOCH 3 - PROGRESS: at 30.68% examples, 774464 words/s, in_qsize 6, out_qsize 1\n",
      "2019-03-11 17:58:34,862 : INFO : EPOCH 3 - PROGRESS: at 36.56% examples, 768446 words/s, in_qsize 7, out_qsize 0\n",
      "2019-03-11 17:58:35,875 : INFO : EPOCH 3 - PROGRESS: at 42.08% examples, 758529 words/s, in_qsize 6, out_qsize 1\n",
      "2019-03-11 17:58:36,878 : INFO : EPOCH 3 - PROGRESS: at 48.33% examples, 763509 words/s, in_qsize 7, out_qsize 0\n",
      "2019-03-11 17:58:37,883 : INFO : EPOCH 3 - PROGRESS: at 54.59% examples, 767307 words/s, in_qsize 7, out_qsize 0\n",
      "2019-03-11 17:58:38,884 : INFO : EPOCH 3 - PROGRESS: at 60.75% examples, 769801 words/s, in_qsize 7, out_qsize 0\n",
      "2019-03-11 17:58:39,885 : INFO : EPOCH 3 - PROGRESS: at 67.18% examples, 774510 words/s, in_qsize 7, out_qsize 0\n",
      "2019-03-11 17:58:40,887 : INFO : EPOCH 3 - PROGRESS: at 73.44% examples, 776670 words/s, in_qsize 7, out_qsize 0\n",
      "2019-03-11 17:58:41,892 : INFO : EPOCH 3 - PROGRESS: at 79.57% examples, 776582 words/s, in_qsize 7, out_qsize 0\n",
      "2019-03-11 17:58:42,897 : INFO : EPOCH 3 - PROGRESS: at 85.74% examples, 777110 words/s, in_qsize 7, out_qsize 0\n",
      "2019-03-11 17:58:43,900 : INFO : EPOCH 3 - PROGRESS: at 91.87% examples, 777587 words/s, in_qsize 7, out_qsize 0\n",
      "2019-03-11 17:58:44,906 : INFO : EPOCH 3 - PROGRESS: at 97.95% examples, 776988 words/s, in_qsize 7, out_qsize 0\n",
      "2019-03-11 17:58:45,177 : INFO : worker thread finished; awaiting finish of 3 more threads\n",
      "2019-03-11 17:58:45,189 : INFO : worker thread finished; awaiting finish of 2 more threads\n",
      "2019-03-11 17:58:45,195 : INFO : worker thread finished; awaiting finish of 1 more threads\n"
     ]
    },
    {
     "name": "stderr",
     "output_type": "stream",
     "text": [
      "2019-03-11 17:58:45,199 : INFO : worker thread finished; awaiting finish of 0 more threads\n",
      "2019-03-11 17:58:45,200 : INFO : EPOCH - 3 : training on 17798082 raw words (12750672 effective words) took 16.4s, 779202 effective words/s\n",
      "2019-03-11 17:58:46,216 : INFO : EPOCH 4 - PROGRESS: at 6.23% examples, 792185 words/s, in_qsize 7, out_qsize 0\n",
      "2019-03-11 17:58:47,220 : INFO : EPOCH 4 - PROGRESS: at 12.63% examples, 798525 words/s, in_qsize 7, out_qsize 0\n",
      "2019-03-11 17:58:48,224 : INFO : EPOCH 4 - PROGRESS: at 18.98% examples, 798218 words/s, in_qsize 7, out_qsize 0\n",
      "2019-03-11 17:58:49,236 : INFO : EPOCH 4 - PROGRESS: at 25.16% examples, 792949 words/s, in_qsize 8, out_qsize 0\n",
      "2019-03-11 17:58:50,239 : INFO : EPOCH 4 - PROGRESS: at 31.50% examples, 793952 words/s, in_qsize 6, out_qsize 1\n",
      "2019-03-11 17:58:51,240 : INFO : EPOCH 4 - PROGRESS: at 37.84% examples, 796041 words/s, in_qsize 8, out_qsize 0\n",
      "2019-03-11 17:58:52,246 : INFO : EPOCH 4 - PROGRESS: at 44.32% examples, 800167 words/s, in_qsize 7, out_qsize 0\n",
      "2019-03-11 17:58:53,251 : INFO : EPOCH 4 - PROGRESS: at 50.74% examples, 802431 words/s, in_qsize 7, out_qsize 0\n",
      "2019-03-11 17:58:54,256 : INFO : EPOCH 4 - PROGRESS: at 57.15% examples, 804245 words/s, in_qsize 7, out_qsize 0\n",
      "2019-03-11 17:58:55,262 : INFO : EPOCH 4 - PROGRESS: at 63.50% examples, 804828 words/s, in_qsize 7, out_qsize 0\n",
      "2019-03-11 17:58:56,265 : INFO : EPOCH 4 - PROGRESS: at 69.76% examples, 804288 words/s, in_qsize 7, out_qsize 0\n",
      "2019-03-11 17:58:57,271 : INFO : EPOCH 4 - PROGRESS: at 75.76% examples, 800720 words/s, in_qsize 7, out_qsize 0\n",
      "2019-03-11 17:58:58,278 : INFO : EPOCH 4 - PROGRESS: at 82.09% examples, 800827 words/s, in_qsize 7, out_qsize 0\n",
      "2019-03-11 17:58:59,293 : INFO : EPOCH 4 - PROGRESS: at 88.69% examples, 803052 words/s, in_qsize 6, out_qsize 1\n",
      "2019-03-11 17:59:00,294 : INFO : EPOCH 4 - PROGRESS: at 95.24% examples, 804798 words/s, in_qsize 7, out_qsize 0\n",
      "2019-03-11 17:59:01,056 : INFO : worker thread finished; awaiting finish of 3 more threads\n",
      "2019-03-11 17:59:01,059 : INFO : worker thread finished; awaiting finish of 2 more threads\n",
      "2019-03-11 17:59:01,076 : INFO : worker thread finished; awaiting finish of 1 more threads\n",
      "2019-03-11 17:59:01,082 : INFO : worker thread finished; awaiting finish of 0 more threads\n",
      "2019-03-11 17:59:01,082 : INFO : EPOCH - 4 : training on 17798082 raw words (12749783 effective words) took 15.9s, 803546 effective words/s\n",
      "2019-03-11 17:59:02,089 : INFO : EPOCH 5 - PROGRESS: at 6.23% examples, 792645 words/s, in_qsize 7, out_qsize 0\n",
      "2019-03-11 17:59:03,095 : INFO : EPOCH 5 - PROGRESS: at 12.51% examples, 790717 words/s, in_qsize 7, out_qsize 0\n",
      "2019-03-11 17:59:04,105 : INFO : EPOCH 5 - PROGRESS: at 18.36% examples, 770104 words/s, in_qsize 7, out_qsize 0\n",
      "2019-03-11 17:59:05,117 : INFO : EPOCH 5 - PROGRESS: at 25.00% examples, 786215 words/s, in_qsize 7, out_qsize 0\n",
      "2019-03-11 17:59:06,120 : INFO : EPOCH 5 - PROGRESS: at 30.92% examples, 778469 words/s, in_qsize 7, out_qsize 0\n",
      "2019-03-11 17:59:07,125 : INFO : EPOCH 5 - PROGRESS: at 36.84% examples, 773103 words/s, in_qsize 7, out_qsize 0\n",
      "2019-03-11 17:59:08,125 : INFO : EPOCH 5 - PROGRESS: at 42.86% examples, 773001 words/s, in_qsize 7, out_qsize 0\n",
      "2019-03-11 17:59:09,134 : INFO : EPOCH 5 - PROGRESS: at 49.38% examples, 780084 words/s, in_qsize 7, out_qsize 0\n",
      "2019-03-11 17:59:10,148 : INFO : EPOCH 5 - PROGRESS: at 55.94% examples, 785153 words/s, in_qsize 7, out_qsize 0\n",
      "2019-03-11 17:59:11,153 : INFO : EPOCH 5 - PROGRESS: at 62.25% examples, 787643 words/s, in_qsize 7, out_qsize 0\n",
      "2019-03-11 17:59:12,154 : INFO : EPOCH 5 - PROGRESS: at 68.61% examples, 789470 words/s, in_qsize 8, out_qsize 0\n",
      "2019-03-11 17:59:13,164 : INFO : EPOCH 5 - PROGRESS: at 75.02% examples, 791626 words/s, in_qsize 7, out_qsize 0\n",
      "2019-03-11 17:59:14,171 : INFO : EPOCH 5 - PROGRESS: at 81.26% examples, 791382 words/s, in_qsize 7, out_qsize 0\n",
      "2019-03-11 17:59:15,172 : INFO : EPOCH 5 - PROGRESS: at 87.85% examples, 795041 words/s, in_qsize 7, out_qsize 0\n",
      "2019-03-11 17:59:16,178 : INFO : EPOCH 5 - PROGRESS: at 94.32% examples, 796526 words/s, in_qsize 7, out_qsize 0\n",
      "2019-03-11 17:59:17,038 : INFO : worker thread finished; awaiting finish of 3 more threads\n",
      "2019-03-11 17:59:17,044 : INFO : worker thread finished; awaiting finish of 2 more threads\n",
      "2019-03-11 17:59:17,050 : INFO : worker thread finished; awaiting finish of 1 more threads\n",
      "2019-03-11 17:59:17,055 : INFO : worker thread finished; awaiting finish of 0 more threads\n",
      "2019-03-11 17:59:17,056 : INFO : EPOCH - 5 : training on 17798082 raw words (12747858 effective words) took 16.0s, 798414 effective words/s\n",
      "2019-03-11 17:59:17,056 : INFO : training on a 88990410 raw words (63748523 effective words) took 81.8s, 779193 effective words/s\n",
      "2019-03-11 17:59:17,057 : INFO : precomputing L2-norms of word weight vectors\n",
      "2019-03-11 17:59:17,210 : INFO : saving Word2Vec object under 300features_40minwords_10context, separately None\n",
      "2019-03-11 17:59:17,211 : INFO : not storing attribute vectors_norm\n",
      "2019-03-11 17:59:17,212 : INFO : not storing attribute cum_table\n",
      "2019-03-11 17:59:17,676 : INFO : saved 300features_40minwords_10context\n"
     ]
    }
   ],
   "source": [
    "# Import the built-in logging module and configure it so that Word2Vec \n",
    "# creates nice output messages\n",
    "import logging\n",
    "logging.basicConfig(format='%(asctime)s : %(levelname)s : %(message)s',\\\n",
    "    level=logging.INFO)\n",
    "\n",
    "# Set values for various parameters\n",
    "num_features = 300    # Word vector dimensionality                      \n",
    "min_word_count = 40   # Minimum word count                        \n",
    "num_workers = 4       # Number of threads to run in parallel\n",
    "context = 10          # Context window size                                                                                    \n",
    "downsampling = 1e-3   # Downsample setting for frequent words\n",
    "\n",
    "# Initialize and train the model (this will take some time)\n",
    "from gensim.models import word2vec\n",
    "print (\"Training model...\")\n",
    "model = word2vec.Word2Vec(sentences, workers=num_workers, \\\n",
    "            size=num_features, min_count = min_word_count, \\\n",
    "            window = context, sample = downsampling)\n",
    "\n",
    "# If you don't plan to train the model any further, calling \n",
    "# init_sims will make the model much more memory-efficient.\n",
    "model.init_sims(replace=True)\n",
    "\n",
    "# It can be helpful to create a meaningful model name and \n",
    "# save the model for later use. You can load it later using Word2Vec.load()\n",
    "model_name = \"300features_40minwords_10context\"\n",
    "model.save(model_name)"
   ]
  },
  {
   "cell_type": "code",
   "execution_count": 28,
   "metadata": {},
   "outputs": [
    {
     "data": {
      "text/plain": [
       "'toilet'"
      ]
     },
     "execution_count": 28,
     "metadata": {},
     "output_type": "execute_result"
    }
   ],
   "source": [
    "model.wv.doesnt_match(\"cat dog lizard toilet\".split())"
   ]
  },
  {
   "cell_type": "code",
   "execution_count": 27,
   "metadata": {},
   "outputs": [
    {
     "data": {
      "text/plain": [
       "[('woman', 0.6196308135986328),\n",
       " ('lady', 0.6027864217758179),\n",
       " ('lad', 0.5857887268066406),\n",
       " ('farmer', 0.5506047010421753),\n",
       " ('monk', 0.5343555212020874),\n",
       " ('millionaire', 0.5326489210128784),\n",
       " ('men', 0.5268594026565552),\n",
       " ('guy', 0.5151544213294983),\n",
       " ('soldier', 0.513985276222229),\n",
       " ('boy', 0.5056132078170776)]"
      ]
     },
     "execution_count": 27,
     "metadata": {},
     "output_type": "execute_result"
    }
   ],
   "source": [
    "model.wv.most_similar(\"man\")"
   ]
  },
  {
   "cell_type": "code",
   "execution_count": 29,
   "metadata": {},
   "outputs": [
    {
     "data": {
      "text/plain": [
       "(16490, 300)"
      ]
     },
     "execution_count": 29,
     "metadata": {},
     "output_type": "execute_result"
    }
   ],
   "source": [
    "model.wv.vectors.shape"
   ]
  },
  {
   "cell_type": "markdown",
   "metadata": {},
   "source": [
    "So after we trained our word2vec neural network on our unlabled dataset, we have a model which contains the word vectors. The word vectors are essentially a 2D numpy array. The rows represent the number of words in the model's vocabulary and the number of columns represent the size of the feature vectors."
   ]
  },
  {
   "cell_type": "markdown",
   "metadata": {},
   "source": [
    "## Vector Averaging\n",
    "\n",
    "One challenge with the IMDB dataset is that not all reviews are of the same length. Therefore, in order to use our traditional machine learning algorithms, we need to find a way to take individual word vectors and transform them into a feature set that is the same length for every review.\n",
    "\n",
    "Each word vector contains 300 numbers, one way to ensure that all features are the same length is to simply take the average of all the word vectors in any given review. This will return another 300 dimensional vector. \n",
    "\n",
    "**Note** we remove stop words for this operation since they will just add noise."
   ]
  },
  {
   "cell_type": "code",
   "execution_count": 49,
   "metadata": {},
   "outputs": [],
   "source": [
    "def makeFeatureVec(words, model, num_features):\n",
    "    #Pre initialize a numpy array (for speed)\n",
    "    featureVec = np.zeros((num_features,),dtype=\"float32\")\n",
    "    \n",
    "    nwords = 0.\n",
    "    \n",
    "    #Index2Word is a function that returns a list of the model's vocab, convert it to a set (for speed)\n",
    "    index2word_set = set(model.wv.index2word)\n",
    "    \n",
    "    #Loop over each word in the review, if it is in model's vocab than add it into featureVec\n",
    "    for word in words:\n",
    "        if word in index2word_set:\n",
    "            nwords += 1.\n",
    "            featureVec = np.add(featureVec,model.wv[word])\n",
    "    \n",
    "    #Divide the featureVec by the total number of words added to get the average\n",
    "    featureVec = np.divide(featureVec,nwords)\n",
    "    return featureVec\n",
    "\n",
    "def getAvgFeatureVecs(reviews, model, num_features):\n",
    "    #Initialize a counter\n",
    "    counter = 0\n",
    "    \n",
    "    #Pre Initialize a 2D numpy array (for speed)\n",
    "    reviewFeatureVecs = np.zeros((len(reviews),num_features),dtype='float32')\n",
    "    \n",
    "    #Loop over reviews and create an average featureVec for each one.\n",
    "    #Then, add it into reviewFeatureVecs\n",
    "    for review in reviews:\n",
    "        if counter%1000 == 0:\n",
    "            print(\"Review {} of {}\".format(counter,len(reviews)))\n",
    "            \n",
    "        reviewFeatureVecs[counter] = makeFeatureVec(review, model, num_features)\n",
    "        \n",
    "        counter = counter + 1\n",
    "    return reviewFeatureVecs"
   ]
  },
  {
   "cell_type": "code",
   "execution_count": 50,
   "metadata": {},
   "outputs": [
    {
     "name": "stdout",
     "output_type": "stream",
     "text": [
      "Preprocessing the reviews\n",
      "Finished Preprocessing\n",
      "Review 0 of 25000\n",
      "Review 1000 of 25000\n",
      "Review 2000 of 25000\n",
      "Review 3000 of 25000\n",
      "Review 4000 of 25000\n",
      "Review 5000 of 25000\n",
      "Review 6000 of 25000\n",
      "Review 7000 of 25000\n",
      "Review 8000 of 25000\n",
      "Review 9000 of 25000\n",
      "Review 10000 of 25000\n",
      "Review 11000 of 25000\n",
      "Review 12000 of 25000\n",
      "Review 13000 of 25000\n",
      "Review 14000 of 25000\n",
      "Review 15000 of 25000\n",
      "Review 16000 of 25000\n",
      "Review 17000 of 25000\n",
      "Review 18000 of 25000\n",
      "Review 19000 of 25000\n",
      "Review 20000 of 25000\n",
      "Review 21000 of 25000\n",
      "Review 22000 of 25000\n",
      "Review 23000 of 25000\n",
      "Review 24000 of 25000\n",
      "Creating average feature vecs for test reviews\n",
      "Review 0 of 25000\n",
      "Review 1000 of 25000\n",
      "Review 2000 of 25000\n",
      "Review 3000 of 25000\n",
      "Review 4000 of 25000\n",
      "Review 5000 of 25000\n",
      "Review 6000 of 25000\n",
      "Review 7000 of 25000\n",
      "Review 8000 of 25000\n",
      "Review 9000 of 25000\n",
      "Review 10000 of 25000\n",
      "Review 11000 of 25000\n",
      "Review 12000 of 25000\n",
      "Review 13000 of 25000\n",
      "Review 14000 of 25000\n",
      "Review 15000 of 25000\n",
      "Review 16000 of 25000\n",
      "Review 17000 of 25000\n",
      "Review 18000 of 25000\n",
      "Review 19000 of 25000\n",
      "Review 20000 of 25000\n",
      "Review 21000 of 25000\n",
      "Review 22000 of 25000\n",
      "Review 23000 of 25000\n",
      "Review 24000 of 25000\n",
      "Finished Creating average feature vecs\n"
     ]
    }
   ],
   "source": [
    "# ****************************************************************\n",
    "# Calculate average feature vectors for training and testing sets,\n",
    "# using the functions we defined above. Notice that we now use stop word\n",
    "# removal.\n",
    "\n",
    "clean_train_reviews = []\n",
    "print(\"Preprocessing the reviews\")\n",
    "for review in train[\"review\"]:\n",
    "    clean_train_reviews.append( review_to_wordlist( review, remove_stopwords=True ))\n",
    "print(\"Finished Preprocessing\")\n",
    "\n",
    "trainDataVecs = getAvgFeatureVecs( clean_train_reviews, model, 300 )\n",
    "\n",
    "print(\"Creating average feature vecs for test reviews\")\n",
    "clean_test_reviews = []\n",
    "for review in test[\"review\"]:\n",
    "    clean_test_reviews.append( review_to_wordlist( review, remove_stopwords=True ))\n",
    "\n",
    "testDataVecs = getAvgFeatureVecs( clean_test_reviews, model, 300 )\n",
    "print(\"Finished Creating average feature vecs\")"
   ]
  },
  {
   "cell_type": "code",
   "execution_count": 55,
   "metadata": {},
   "outputs": [
    {
     "name": "stdout",
     "output_type": "stream",
     "text": [
      "(25000, 300)\n",
      "(25000, 300)\n"
     ]
    }
   ],
   "source": [
    "print(trainDataVecs.shape)\n",
    "print(testDataVecs.shape)"
   ]
  },
  {
   "cell_type": "markdown",
   "metadata": {},
   "source": [
    "Now that we have our average vector for all reviews, we can train our random forest classifier on this data and submit a kaggle competition with the test data."
   ]
  },
  {
   "cell_type": "code",
   "execution_count": 56,
   "metadata": {},
   "outputs": [
    {
     "name": "stdout",
     "output_type": "stream",
     "text": [
      "Fitting the random forest model\n",
      "Fitting Complete\n"
     ]
    }
   ],
   "source": [
    "# Fit a random forest to the training data, using 100 trees\n",
    "from sklearn.ensemble import RandomForestClassifier\n",
    "forest = RandomForestClassifier( n_estimators = 100 )\n",
    "\n",
    "print(\"Fitting the random forest model\")\n",
    "forest.fit(trainDataVecs,train['sentiment'])\n",
    "print(\"Fitting Complete\")"
   ]
  },
  {
   "cell_type": "code",
   "execution_count": 57,
   "metadata": {},
   "outputs": [],
   "source": [
    "# Test & extract results \n",
    "result = forest.predict( testDataVecs )\n",
    "\n",
    "# Write the test results \n",
    "output = pd.DataFrame( data={\"id\":test[\"id\"], \"sentiment\":result} )\n",
    "output.to_csv( \"Word2Vec_AverageVectors.csv\", index=False, quoting=3 )"
   ]
  },
  {
   "cell_type": "markdown",
   "metadata": {},
   "source": [
    "With word vectors and vector averaging, we were able to achieve a score of 0.82868 on kaggle."
   ]
  },
  {
   "cell_type": "markdown",
   "metadata": {},
   "source": [
    "## Vector Quantization\n",
    "\n",
    "Another technique besides vector averaging is called vector quantization, which is basically a technique in which you group similar vectors together. We can perform this grouping by using a clustering algorithm like K-means.\n",
    "\n",
    "In K-means we choose the hyperparameter K. This selection is mostly just trail and error, and according to the kaggle tutorial, the best results they got was K = 5."
   ]
  },
  {
   "cell_type": "code",
   "execution_count": 83,
   "metadata": {},
   "outputs": [
    {
     "name": "stdout",
     "output_type": "stream",
     "text": [
      "Starting K Means Algorithm\n",
      "K Means Algorithm Completed:\n",
      "Time Durations = 374.3183710575104\n"
     ]
    }
   ],
   "source": [
    "from sklearn.cluster import KMeans\n",
    "import time\n",
    "\n",
    "print(\"Starting K Means Algorithm\")\n",
    "start = time.time() # Start time\n",
    "\n",
    "# Set \"k\" (num_clusters) to be 1/5th of the vocabulary size, or an\n",
    "# average of 5 words per cluster\n",
    "word_vectors = model.wv.vectors\n",
    "num_clusters = word_vectors.shape[0] // 5\n",
    "\n",
    "# Initalize a k-means object and use it to extract centroids\n",
    "kmeans_clustering = KMeans( n_clusters = num_clusters )\n",
    "idx = kmeans_clustering.fit_predict( word_vectors )\n",
    "\n",
    "# Get the end time and print how long the process took\n",
    "end = time.time()\n",
    "elapsed = end - start\n",
    "print(\"K Means Algorithm Completed:\\nTime Durations = {}\".format(elapsed))"
   ]
  },
  {
   "cell_type": "code",
   "execution_count": 84,
   "metadata": {},
   "outputs": [],
   "source": [
    "# Create a Word / Index dictionary, mapping each vocabulary word to\n",
    "# a cluster number                                                                                            \n",
    "word_centroid_map = dict(zip( model.wv.index2word, idx ))"
   ]
  },
  {
   "cell_type": "code",
   "execution_count": 85,
   "metadata": {},
   "outputs": [
    {
     "name": "stdout",
     "output_type": "stream",
     "text": [
      "\n",
      "Cluster 1: \n",
      "['ultra', 'unnecessarily', 'excessively', 'overkill', 'overuse']\n",
      "\n",
      "Cluster 2: \n",
      "['kolchak']\n",
      "\n",
      "Cluster 3: \n",
      "['operations']\n",
      "\n",
      "Cluster 4: \n",
      "['naschy', 'fran', 'alain', 'molina', 'maestro', 'fenech']\n",
      "\n",
      "Cluster 5: \n",
      "['bums']\n",
      "\n",
      "Cluster 6: \n",
      "['progressive']\n",
      "\n",
      "Cluster 7: \n",
      "['texture', 'sepia']\n",
      "\n",
      "Cluster 8: \n",
      "['fired', 'stoned', 'smashed', 'busted', 'punched', 'pinned', 'bashed']\n",
      "\n",
      "Cluster 9: \n",
      "['stamp', 'surly']\n",
      "\n",
      "Cluster 10: \n",
      "['fenn']\n"
     ]
    }
   ],
   "source": [
    "for cluster in range(0,10):\n",
    "    print(\"\\nCluster {}: \".format(cluster + 1))\n",
    "    \n",
    "    #Find all the words with that cluster number and print them out\n",
    "    words = []\n",
    "    for i in word_centroid_map:\n",
    "        if(word_centroid_map[i] == cluster):\n",
    "            words.append(i)\n",
    "    print(words)"
   ]
  },
  {
   "cell_type": "code",
   "execution_count": 86,
   "metadata": {},
   "outputs": [],
   "source": [
    "def create_bag_of_centroids( wordlist, word_centroid_map ):\n",
    "    #\n",
    "    # The number of clusters is equal to the highest cluster index\n",
    "    # in the word / centroid map\n",
    "    num_centroids = max( word_centroid_map.values() ) + 1\n",
    "    #\n",
    "    # Pre-allocate the bag of centroids vector (for speed)\n",
    "    bag_of_centroids = np.zeros( num_centroids, dtype=\"float32\" )\n",
    "    #\n",
    "    # Loop over the words in the review. If the word is in the vocabulary,\n",
    "    # find which cluster it belongs to, and increment that cluster count \n",
    "    # by one\n",
    "    for word in wordlist:\n",
    "        if word in word_centroid_map:\n",
    "            index = word_centroid_map[word]\n",
    "            bag_of_centroids[index] += 1\n",
    "    #\n",
    "    # Return the \"bag of centroids\"\n",
    "    return bag_of_centroids"
   ]
  },
  {
   "cell_type": "code",
   "execution_count": 87,
   "metadata": {},
   "outputs": [],
   "source": [
    "# Pre-allocate an array for the training set bags of centroids (for speed)\n",
    "train_centroids = np.zeros( (train[\"review\"].size, num_clusters), \\\n",
    "    dtype=\"float32\" )\n",
    "\n",
    "# Transform the training set reviews into bags of centroids\n",
    "counter = 0\n",
    "for review in clean_train_reviews:\n",
    "    train_centroids[counter] = create_bag_of_centroids( review, \\\n",
    "        word_centroid_map )\n",
    "    counter += 1\n",
    "\n",
    "# Repeat for test reviews \n",
    "test_centroids = np.zeros(( test[\"review\"].size, num_clusters), \\\n",
    "    dtype=\"float32\" )\n",
    "\n",
    "counter = 0\n",
    "for review in clean_test_reviews:\n",
    "    test_centroids[counter] = create_bag_of_centroids( review, \\\n",
    "        word_centroid_map )\n",
    "    counter += 1"
   ]
  },
  {
   "cell_type": "code",
   "execution_count": 89,
   "metadata": {},
   "outputs": [
    {
     "name": "stdout",
     "output_type": "stream",
     "text": [
      "Fitting a random forest to labeled training data...\n"
     ]
    }
   ],
   "source": [
    "# Fit a random forest and extract predictions \n",
    "forest = RandomForestClassifier(n_estimators = 100)\n",
    "\n",
    "# Fitting the forest may take a few minutes\n",
    "print (\"Fitting a random forest to labeled training data...\")\n",
    "forest = forest.fit(train_centroids,train[\"sentiment\"])\n",
    "result = forest.predict(test_centroids)\n",
    "\n",
    "# Write the test results \n",
    "output = pd.DataFrame(data={\"id\":test[\"id\"], \"sentiment\":result})\n",
    "output.to_csv( \"BagOfCentroids.csv\", index=False, quoting=3 )"
   ]
  },
  {
   "cell_type": "markdown",
   "metadata": {},
   "source": [
    "So from using the 'BagOfCentroids', scored 0.84348 on the kaggle challenge. Which is a little bit better than the vector averaging technique."
   ]
  },
  {
   "cell_type": "code",
   "execution_count": 91,
   "metadata": {},
   "outputs": [
    {
     "data": {
      "text/plain": [
       "array([1, 0, 1, ..., 0, 1, 1])"
      ]
     },
     "execution_count": 91,
     "metadata": {},
     "output_type": "execute_result"
    }
   ],
   "source": [
    "result"
   ]
  },
  {
   "cell_type": "code",
   "execution_count": null,
   "metadata": {},
   "outputs": [],
   "source": []
  }
 ],
 "metadata": {
  "kernelspec": {
   "display_name": "Python 3",
   "language": "python",
   "name": "python3"
  },
  "language_info": {
   "codemirror_mode": {
    "name": "ipython",
    "version": 3
   },
   "file_extension": ".py",
   "mimetype": "text/x-python",
   "name": "python",
   "nbconvert_exporter": "python",
   "pygments_lexer": "ipython3",
   "version": "3.6.8"
  }
 },
 "nbformat": 4,
 "nbformat_minor": 2
}
